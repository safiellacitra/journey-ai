{
  "nbformat": 4,
  "nbformat_minor": 0,
  "metadata": {
    "colab": {
      "provenance": [],
      "authorship_tag": "ABX9TyNSFRJCNJrHQfLM87DrTmXL",
      "include_colab_link": true
    },
    "kernelspec": {
      "name": "python3",
      "display_name": "Python 3"
    },
    "language_info": {
      "name": "python"
    }
  },
  "cells": [
    {
      "cell_type": "markdown",
      "metadata": {
        "id": "view-in-github",
        "colab_type": "text"
      },
      "source": [
        "<a href=\"https://colab.research.google.com/github/safiellacitra/journey-ai/blob/main/DQLab_Academy_Python_for_Data_Professional_Beginner_Part_2_.ipynb\" target=\"_parent\"><img src=\"https://colab.research.google.com/assets/colab-badge.svg\" alt=\"Open In Colab\"/></a>"
      ]
    },
    {
      "cell_type": "markdown",
      "source": [
        "Hello! So, today I just started planning (and doing it) to study again at DQLab and thankfully I was able to find a free voucher for a month to be able to study their premium modules! (I have to maximize this month's time well!)\n",
        "\n",
        "If you're wondering, I'd been subscribing to this platform when I was in uni but my lazy version never had the urge to learn it continuously until 6+6+3 months or how many months I don't even remember just gone? Long story short, this time I have my time to commit to learn these classes by myself so I hope I'm able to finish this course! At least, to the extent it could be seen as completed (because there are several study cases in this platform that can be executed)\n",
        "\n",
        "So, I just finished my 2nd part practical lesson in this class and I found it lengthy... well I read somewhere that it's not about the long-word but it's about how we could know which code typing can be computed fastest, for efficiency purposes? That's the concept I catch, please correct me if that idea is incorrect.\n",
        "\n",
        "So here's I give the code that the course gave me and I just need to fill in the blank:"
      ],
      "metadata": {
        "id": "XqfboMmnL35I"
      }
    },
    {
      "cell_type": "code",
      "execution_count": null,
      "metadata": {
        "colab": {
          "base_uri": "https://localhost:8080/"
        },
        "id": "cyGiT-aaLobd",
        "outputId": "1367ee88-0102-4a73-f65c-03760bd38386"
      },
      "outputs": [
        {
          "output_type": "stream",
          "name": "stdout",
          "text": [
            "2.8277777777777775\n",
            "7.8999999999999995\n"
          ]
        }
      ],
      "source": [
        "# Data keuangan\n",
        "keuangan = {\n",
        "'pengeluaran': [2, 2.5, 2.25, 2.5, 3.2, 2.5, 3.5, 4, 3],\n",
        "'pemasukan': [7.8, 7.5, 9, 7.6, 7.2, 7.5, 7, 10, 7.5]\n",
        "}\n",
        "# Perhitungan rata-rata pemasukan dan rata-rata pengeluaran\n",
        "total_pengeluaran = 0\n",
        "total_pemasukan = 0\n",
        "for biaya in keuangan['pengeluaran']:\n",
        "    total_pengeluaran += biaya\n",
        "for biaya in keuangan['pemasukan']:\n",
        "    total_pemasukan += biaya\n",
        "rata_rata_pengeluaran = total_pengeluaran/len(keuangan['pengeluaran'])\n",
        "rata_rata_pemasukan = total_pemasukan/len(keuangan['pemasukan'])\n",
        "print(rata_rata_pengeluaran)\n",
        "print(rata_rata_pemasukan)"
      ]
    },
    {
      "cell_type": "markdown",
      "source": [
        "But I have an idea I can be executed them like this:"
      ],
      "metadata": {
        "id": "rCyXSHjpOHPB"
      }
    },
    {
      "cell_type": "code",
      "source": [
        "# Data keuangan\n",
        "keuangan = {\n",
        "'pengeluaran': [2, 2.5, 2.25, 2.5, 3.2, 2.5, 3.5, 4, 3],\n",
        "'pemasukan': [7.8, 7.5, 9, 7.6, 7.2, 7.5, 7, 10, 7.5]\n",
        "}\n",
        "# Perhitungan rata-rata pemasukan dan rata-rata pengeluaran\n",
        "total_pengeluaran = sum(keuangan['pengeluaran'])\n",
        "total_pemasukan = sum(keuangan['pemasukan'])\n",
        "rata_rata_pengeluaran = total_pengeluaran/len(keuangan['pengeluaran'])\n",
        "rata_rata_pemasukan = total_pemasukan/len(keuangan['pemasukan'])\n",
        "print(rata_rata_pengeluaran)\n",
        "print(rata_rata_pemasukan)"
      ],
      "metadata": {
        "colab": {
          "base_uri": "https://localhost:8080/"
        },
        "id": "4fxVh4LrLreL",
        "outputId": "a4e901dd-7004-4246-d07a-39f70123f8fb"
      },
      "execution_count": null,
      "outputs": [
        {
          "output_type": "stream",
          "name": "stdout",
          "text": [
            "2.8277777777777775\n",
            "7.8999999999999995\n"
          ]
        }
      ]
    },
    {
      "cell_type": "markdown",
      "source": [
        "I know it's more concise, but I wonder which one is better? Do I need the for loop to know the logic behind ... *coding*?"
      ],
      "metadata": {
        "id": "_3MHg92jOZTN"
      }
    },
    {
      "cell_type": "code",
      "source": [],
      "metadata": {
        "id": "lskQF3S4OXPq"
      },
      "execution_count": null,
      "outputs": []
    }
  ]
}